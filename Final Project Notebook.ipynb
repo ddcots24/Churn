{
 "cells": [
  {
   "cell_type": "markdown",
   "metadata": {},
   "source": [
    "# Business Understanding\n",
    "- Telecommunications company interested in reducing money lost with people churning\n",
    "- We were tasked with building models to be able to accurately predict the probability of a person churning\n",
    "- This will help the Telecommunications to predict when it will lose customers \n",
    "- Based on the model it will identify what importance features are useful to tell when a person will churn\n"
   ]
  },
  {
   "cell_type": "markdown",
   "metadata": {},
   "source": [
    "# Data Understanding\n",
    "- This data is from a telecom company\n",
    "- It contains customer usage in minutes and calls\n",
    "- Whether the customer churned or didnt churn\n",
    "- Whether or not they had an international, voicemail plan and how many times they called customer service\n",
    "- Value of the data:\n",
    "    - Could be used for revenue expecations for the upcoming year\n",
    "    - For new potential phone plans\n",
    "    - Need restructuring of different services or departments in the company\n",
    "    - To be able to preemptively reach out to customers who are about to churn and persuade them to stay (i.e with a special package)"
   ]
  },
  {
   "cell_type": "markdown",
   "metadata": {},
   "source": [
    "# Data Preperation"
   ]
  },
  {
   "cell_type": "code",
   "execution_count": 213,
   "metadata": {},
   "outputs": [],
   "source": [
    "#Importing packages to be used throughout the project\n",
    "import pandas as pd\n",
    "import numpy as np\n",
    "import seaborn as sns\n",
    "from sklearn.preprocessing import LabelEncoder\n",
    "from sklearn.metrics import confusion_matrix, recall_score, precision_score\n",
    "import matplotlib.pyplot as plt\n",
    "from sklearn import set_config\n",
    "set_config(display='diagram')\n",
    "from sklearn.preprocessing import OneHotEncoder, StandardScaler, MaxAbsScaler\n",
    "from sklearn.pipeline import Pipeline\n",
    "from sklearn.compose import ColumnTransformer\n",
    "from sklearn.linear_model import LogisticRegression\n",
    "from sklearn.metrics import classification_report, roc_curve, RocCurveDisplay, ConfusionMatrixDisplay, confusion_matrix, plot_roc_curve\n",
    "from sklearn.model_selection import train_test_split, GridSearchCV, RandomizedSearchCV\n",
    "from imblearn.pipeline import Pipeline\n",
    "from imblearn.over_sampling import SMOTE, RandomOverSampler\n",
    "from sklearn.ensemble import RandomForestClassifier\n",
    "from xgboost import XGBClassifier"
   ]
  },
  {
   "cell_type": "code",
   "execution_count": 214,
   "metadata": {},
   "outputs": [],
   "source": [
    "#reading the data and saving it to a variable\n",
    "df = pd.read_csv('bigml_59c28831336c6604c800002a.csv')"
   ]
  },
  {
   "cell_type": "code",
   "execution_count": 215,
   "metadata": {},
   "outputs": [
    {
     "name": "stdout",
     "output_type": "stream",
     "text": [
      "<class 'pandas.core.frame.DataFrame'>\n",
      "RangeIndex: 3333 entries, 0 to 3332\n",
      "Data columns (total 21 columns):\n",
      " #   Column                  Non-Null Count  Dtype  \n",
      "---  ------                  --------------  -----  \n",
      " 0   state                   3333 non-null   object \n",
      " 1   account length          3333 non-null   int64  \n",
      " 2   area code               3333 non-null   int64  \n",
      " 3   phone number            3333 non-null   object \n",
      " 4   international plan      3333 non-null   object \n",
      " 5   voice mail plan         3333 non-null   object \n",
      " 6   number vmail messages   3333 non-null   int64  \n",
      " 7   total day minutes       3333 non-null   float64\n",
      " 8   total day calls         3333 non-null   int64  \n",
      " 9   total day charge        3333 non-null   float64\n",
      " 10  total eve minutes       3333 non-null   float64\n",
      " 11  total eve calls         3333 non-null   int64  \n",
      " 12  total eve charge        3333 non-null   float64\n",
      " 13  total night minutes     3333 non-null   float64\n",
      " 14  total night calls       3333 non-null   int64  \n",
      " 15  total night charge      3333 non-null   float64\n",
      " 16  total intl minutes      3333 non-null   float64\n",
      " 17  total intl calls        3333 non-null   int64  \n",
      " 18  total intl charge       3333 non-null   float64\n",
      " 19  customer service calls  3333 non-null   int64  \n",
      " 20  churn                   3333 non-null   bool   \n",
      "dtypes: bool(1), float64(8), int64(8), object(4)\n",
      "memory usage: 524.2+ KB\n"
     ]
    }
   ],
   "source": [
    "#Checking if there are any nulls\n",
    "df.info()"
   ]
  },
  {
   "cell_type": "code",
   "execution_count": 216,
   "metadata": {
    "scrolled": true
   },
   "outputs": [
    {
     "data": {
      "text/html": [
       "<div>\n",
       "<style scoped>\n",
       "    .dataframe tbody tr th:only-of-type {\n",
       "        vertical-align: middle;\n",
       "    }\n",
       "\n",
       "    .dataframe tbody tr th {\n",
       "        vertical-align: top;\n",
       "    }\n",
       "\n",
       "    .dataframe thead th {\n",
       "        text-align: right;\n",
       "    }\n",
       "</style>\n",
       "<table border=\"1\" class=\"dataframe\">\n",
       "  <thead>\n",
       "    <tr style=\"text-align: right;\">\n",
       "      <th></th>\n",
       "      <th>account length</th>\n",
       "      <th>area code</th>\n",
       "      <th>number vmail messages</th>\n",
       "      <th>total day minutes</th>\n",
       "      <th>total day calls</th>\n",
       "      <th>total day charge</th>\n",
       "      <th>total eve minutes</th>\n",
       "      <th>total eve calls</th>\n",
       "      <th>total eve charge</th>\n",
       "      <th>total night minutes</th>\n",
       "      <th>total night calls</th>\n",
       "      <th>total night charge</th>\n",
       "      <th>total intl minutes</th>\n",
       "      <th>total intl calls</th>\n",
       "      <th>total intl charge</th>\n",
       "      <th>customer service calls</th>\n",
       "    </tr>\n",
       "  </thead>\n",
       "  <tbody>\n",
       "    <tr>\n",
       "      <th>count</th>\n",
       "      <td>3333.000000</td>\n",
       "      <td>3333.000000</td>\n",
       "      <td>3333.000000</td>\n",
       "      <td>3333.000000</td>\n",
       "      <td>3333.000000</td>\n",
       "      <td>3333.000000</td>\n",
       "      <td>3333.000000</td>\n",
       "      <td>3333.000000</td>\n",
       "      <td>3333.000000</td>\n",
       "      <td>3333.000000</td>\n",
       "      <td>3333.000000</td>\n",
       "      <td>3333.000000</td>\n",
       "      <td>3333.000000</td>\n",
       "      <td>3333.000000</td>\n",
       "      <td>3333.000000</td>\n",
       "      <td>3333.000000</td>\n",
       "    </tr>\n",
       "    <tr>\n",
       "      <th>mean</th>\n",
       "      <td>101.064806</td>\n",
       "      <td>437.182418</td>\n",
       "      <td>8.099010</td>\n",
       "      <td>179.775098</td>\n",
       "      <td>100.435644</td>\n",
       "      <td>30.562307</td>\n",
       "      <td>200.980348</td>\n",
       "      <td>100.114311</td>\n",
       "      <td>17.083540</td>\n",
       "      <td>200.872037</td>\n",
       "      <td>100.107711</td>\n",
       "      <td>9.039325</td>\n",
       "      <td>10.237294</td>\n",
       "      <td>4.479448</td>\n",
       "      <td>2.764581</td>\n",
       "      <td>1.562856</td>\n",
       "    </tr>\n",
       "    <tr>\n",
       "      <th>std</th>\n",
       "      <td>39.822106</td>\n",
       "      <td>42.371290</td>\n",
       "      <td>13.688365</td>\n",
       "      <td>54.467389</td>\n",
       "      <td>20.069084</td>\n",
       "      <td>9.259435</td>\n",
       "      <td>50.713844</td>\n",
       "      <td>19.922625</td>\n",
       "      <td>4.310668</td>\n",
       "      <td>50.573847</td>\n",
       "      <td>19.568609</td>\n",
       "      <td>2.275873</td>\n",
       "      <td>2.791840</td>\n",
       "      <td>2.461214</td>\n",
       "      <td>0.753773</td>\n",
       "      <td>1.315491</td>\n",
       "    </tr>\n",
       "    <tr>\n",
       "      <th>min</th>\n",
       "      <td>1.000000</td>\n",
       "      <td>408.000000</td>\n",
       "      <td>0.000000</td>\n",
       "      <td>0.000000</td>\n",
       "      <td>0.000000</td>\n",
       "      <td>0.000000</td>\n",
       "      <td>0.000000</td>\n",
       "      <td>0.000000</td>\n",
       "      <td>0.000000</td>\n",
       "      <td>23.200000</td>\n",
       "      <td>33.000000</td>\n",
       "      <td>1.040000</td>\n",
       "      <td>0.000000</td>\n",
       "      <td>0.000000</td>\n",
       "      <td>0.000000</td>\n",
       "      <td>0.000000</td>\n",
       "    </tr>\n",
       "    <tr>\n",
       "      <th>25%</th>\n",
       "      <td>74.000000</td>\n",
       "      <td>408.000000</td>\n",
       "      <td>0.000000</td>\n",
       "      <td>143.700000</td>\n",
       "      <td>87.000000</td>\n",
       "      <td>24.430000</td>\n",
       "      <td>166.600000</td>\n",
       "      <td>87.000000</td>\n",
       "      <td>14.160000</td>\n",
       "      <td>167.000000</td>\n",
       "      <td>87.000000</td>\n",
       "      <td>7.520000</td>\n",
       "      <td>8.500000</td>\n",
       "      <td>3.000000</td>\n",
       "      <td>2.300000</td>\n",
       "      <td>1.000000</td>\n",
       "    </tr>\n",
       "    <tr>\n",
       "      <th>50%</th>\n",
       "      <td>101.000000</td>\n",
       "      <td>415.000000</td>\n",
       "      <td>0.000000</td>\n",
       "      <td>179.400000</td>\n",
       "      <td>101.000000</td>\n",
       "      <td>30.500000</td>\n",
       "      <td>201.400000</td>\n",
       "      <td>100.000000</td>\n",
       "      <td>17.120000</td>\n",
       "      <td>201.200000</td>\n",
       "      <td>100.000000</td>\n",
       "      <td>9.050000</td>\n",
       "      <td>10.300000</td>\n",
       "      <td>4.000000</td>\n",
       "      <td>2.780000</td>\n",
       "      <td>1.000000</td>\n",
       "    </tr>\n",
       "    <tr>\n",
       "      <th>75%</th>\n",
       "      <td>127.000000</td>\n",
       "      <td>510.000000</td>\n",
       "      <td>20.000000</td>\n",
       "      <td>216.400000</td>\n",
       "      <td>114.000000</td>\n",
       "      <td>36.790000</td>\n",
       "      <td>235.300000</td>\n",
       "      <td>114.000000</td>\n",
       "      <td>20.000000</td>\n",
       "      <td>235.300000</td>\n",
       "      <td>113.000000</td>\n",
       "      <td>10.590000</td>\n",
       "      <td>12.100000</td>\n",
       "      <td>6.000000</td>\n",
       "      <td>3.270000</td>\n",
       "      <td>2.000000</td>\n",
       "    </tr>\n",
       "    <tr>\n",
       "      <th>max</th>\n",
       "      <td>243.000000</td>\n",
       "      <td>510.000000</td>\n",
       "      <td>51.000000</td>\n",
       "      <td>350.800000</td>\n",
       "      <td>165.000000</td>\n",
       "      <td>59.640000</td>\n",
       "      <td>363.700000</td>\n",
       "      <td>170.000000</td>\n",
       "      <td>30.910000</td>\n",
       "      <td>395.000000</td>\n",
       "      <td>175.000000</td>\n",
       "      <td>17.770000</td>\n",
       "      <td>20.000000</td>\n",
       "      <td>20.000000</td>\n",
       "      <td>5.400000</td>\n",
       "      <td>9.000000</td>\n",
       "    </tr>\n",
       "  </tbody>\n",
       "</table>\n",
       "</div>"
      ],
      "text/plain": [
       "       account length    area code  number vmail messages  total day minutes  \\\n",
       "count     3333.000000  3333.000000            3333.000000        3333.000000   \n",
       "mean       101.064806   437.182418               8.099010         179.775098   \n",
       "std         39.822106    42.371290              13.688365          54.467389   \n",
       "min          1.000000   408.000000               0.000000           0.000000   \n",
       "25%         74.000000   408.000000               0.000000         143.700000   \n",
       "50%        101.000000   415.000000               0.000000         179.400000   \n",
       "75%        127.000000   510.000000              20.000000         216.400000   \n",
       "max        243.000000   510.000000              51.000000         350.800000   \n",
       "\n",
       "       total day calls  total day charge  total eve minutes  total eve calls  \\\n",
       "count      3333.000000       3333.000000        3333.000000      3333.000000   \n",
       "mean        100.435644         30.562307         200.980348       100.114311   \n",
       "std          20.069084          9.259435          50.713844        19.922625   \n",
       "min           0.000000          0.000000           0.000000         0.000000   \n",
       "25%          87.000000         24.430000         166.600000        87.000000   \n",
       "50%         101.000000         30.500000         201.400000       100.000000   \n",
       "75%         114.000000         36.790000         235.300000       114.000000   \n",
       "max         165.000000         59.640000         363.700000       170.000000   \n",
       "\n",
       "       total eve charge  total night minutes  total night calls  \\\n",
       "count       3333.000000          3333.000000        3333.000000   \n",
       "mean          17.083540           200.872037         100.107711   \n",
       "std            4.310668            50.573847          19.568609   \n",
       "min            0.000000            23.200000          33.000000   \n",
       "25%           14.160000           167.000000          87.000000   \n",
       "50%           17.120000           201.200000         100.000000   \n",
       "75%           20.000000           235.300000         113.000000   \n",
       "max           30.910000           395.000000         175.000000   \n",
       "\n",
       "       total night charge  total intl minutes  total intl calls  \\\n",
       "count         3333.000000         3333.000000       3333.000000   \n",
       "mean             9.039325           10.237294          4.479448   \n",
       "std              2.275873            2.791840          2.461214   \n",
       "min              1.040000            0.000000          0.000000   \n",
       "25%              7.520000            8.500000          3.000000   \n",
       "50%              9.050000           10.300000          4.000000   \n",
       "75%             10.590000           12.100000          6.000000   \n",
       "max             17.770000           20.000000         20.000000   \n",
       "\n",
       "       total intl charge  customer service calls  \n",
       "count        3333.000000             3333.000000  \n",
       "mean            2.764581                1.562856  \n",
       "std             0.753773                1.315491  \n",
       "min             0.000000                0.000000  \n",
       "25%             2.300000                1.000000  \n",
       "50%             2.780000                1.000000  \n",
       "75%             3.270000                2.000000  \n",
       "max             5.400000                9.000000  "
      ]
     },
     "execution_count": 216,
     "metadata": {},
     "output_type": "execute_result"
    }
   ],
   "source": [
    "#Looking at the numeric features\n",
    "df.describe()"
   ]
  },
  {
   "cell_type": "code",
   "execution_count": 287,
   "metadata": {},
   "outputs": [
    {
     "data": {
      "image/png": "[encoded data removed]",
      "text/plain": [
       "<Figure size 1440x1440 with 2 Axes>"
      ]
     },
     "metadata": {
      "needs_background": "light"
     },
     "output_type": "display_data"
    }
   ],
   "source": [
    "#Plotting a heatmap to see if there is any collinearity in the feature space\n",
    "fig, ax = plt.subplots(figsize = (20,20))\n",
    "heatmapdf = df.drop(columns = ['state','phone number', 'international plan', 'voice mail plan', 'churn'])\n",
    "mask = np.triu(np.ones_like(heatmapdf.corr()))\n",
    "sns.heatmap(heatmapdf.corr(), annot = True, mask = mask, ax = ax)\n",
    "ax.set_title(\"Numeric Predictors Heat Map\", fontsize = 30)\n",
    "ax.tick_params(labelsize = 18);"
   ]
  },
  {
   "cell_type": "code",
   "execution_count": 109,
   "metadata": {},
   "outputs": [],
   "source": [
    "#Dropping columns that have collinearity with other columns\n",
    "df.drop(columns = ['phone number', 'total day charge', 'total eve charge','total night charge', 'total intl charge'], inplace = True)"
   ]
  },
  {
   "cell_type": "code",
   "execution_count": 110,
   "metadata": {
    "scrolled": true
   },
   "outputs": [
    {
     "data": {
      "text/plain": [
       "False    2850\n",
       "True      483\n",
       "Name: churn, dtype: int64"
      ]
     },
     "execution_count": 110,
     "metadata": {},
     "output_type": "execute_result"
    }
   ],
   "source": [
    "#Looking at the value counts of our target variable and notice that there is a class imbalance\n",
    "df['churn'].value_counts()"
   ]
  },
  {
   "cell_type": "code",
   "execution_count": 298,
   "metadata": {},
   "outputs": [
    {
     "data": {
      "image/png": "[encoded data removed]",
      "text/plain": [
       "<Figure size 432x288 with 1 Axes>"
      ]
     },
     "metadata": {
      "needs_background": "light"
     },
     "output_type": "display_data"
    }
   ],
   "source": [
    "#Visualizing distribution of churn imbalance\n",
    "fig,ax = plt.subplots()\n",
    "\n",
    "x = df['churn'].value_counts().index\n",
    "y = df['churn'].value_counts(normalize = True)\n",
    "\n",
    "sns.barplot(x = x, y = y, ax = ax)\n",
    "\n",
    "ax.set_title('Churn Distribution', fontsize = 22)\n",
    "ax.set_xlabel('Churn Result', fontsize = 16)\n",
    "ax.set_ylabel('Percent of Customers', fontsize = 16)\n",
    "\n",
    "plt.legend(['False = 85.5%', 'True  = 14.5%'])\n",
    "\n",
    "ax.set_xticklabels(ax.get_xticklabels(), rotation=0, ha=\"center\", fontsize = 11);"
   ]
  },
  {
   "cell_type": "code",
   "execution_count": 111,
   "metadata": {},
   "outputs": [],
   "source": [
    "#Label enconding the target variable\n",
    "le = LabelEncoder()\n",
    "le.fit(df['churn'])\n",
    "df['churn'] = le.transform(df['churn'])"
   ]
  },
  {
   "cell_type": "markdown",
   "metadata": {},
   "source": [
    "### Train Test Split"
   ]
  },
  {
   "cell_type": "code",
   "execution_count": 112,
   "metadata": {},
   "outputs": [],
   "source": [
    "#Seperating the target and predictor variables and running a train test split\n",
    "X = df.drop(columns = \"churn\", axis = 1)\n",
    "y = df['churn']\n",
    "\n",
    "X_train, X_test, y_train, y_test = train_test_split(X, y, test_size = .2, random_state = 24)"
   ]
  },
  {
   "cell_type": "markdown",
   "metadata": {},
   "source": [
    "## 1. FSM - Logistic Regression"
   ]
  },
  {
   "cell_type": "code",
   "execution_count": 113,
   "metadata": {},
   "outputs": [],
   "source": [
    "#Creating a first simple model with Logistic Regression\n",
    "nominal_pipeline = Pipeline([('one_hot', OneHotEncoder()), ('mm_scaler', MaxAbsScaler())])\n",
    "numeric_pipeline = Pipeline([(('std_scaler'), StandardScaler())])\n",
    "num_cols = X_train.select_dtypes(['int', 'float']).columns\n",
    "ct = ColumnTransformer([('nominalpipe', nominal_pipeline, ['state', 'area code', 'international plan', 'voice mail plan']), \n",
    "                        ('numpipe', numeric_pipeline, num_cols)])\n",
    "pipe = Pipeline([('preprocessing', ct), ('model', LogisticRegression(random_state = 24))])"
   ]
  },
  {
   "cell_type": "code",
   "execution_count": null,
   "metadata": {
    "scrolled": true
   },
   "outputs": [],
   "source": [
    "#Training the model on the train data set\n",
    "pipe.fit(X_train, y_train)"
   ]
  },
  {
   "cell_type": "code",
   "execution_count": 115,
   "metadata": {},
   "outputs": [
    {
     "name": "stdout",
     "output_type": "stream",
     "text": [
      "              precision    recall  f1-score   support\n",
      "\n",
      "           0       0.88      0.99      0.93      2283\n",
      "           1       0.67      0.17      0.27       383\n",
      "\n",
      "    accuracy                           0.87      2666\n",
      "   macro avg       0.78      0.58      0.60      2666\n",
      "weighted avg       0.85      0.87      0.83      2666\n",
      "\n"
     ]
    }
   ],
   "source": [
    "#Looking at the classification metrics specifically the recall score\n",
    "#Recall for the positive class is very poor\n",
    "y_pred_fsm = pipe.predict(X_train)\n",
    "print(classification_report(y_train, y_pred_fsm))"
   ]
  },
  {
   "cell_type": "code",
   "execution_count": 122,
   "metadata": {},
   "outputs": [
    {
     "data": {
      "image/png": "[encoded data removed]",
      "text/plain": [
       "<Figure size 720x720 with 2 Axes>"
      ]
     },
     "metadata": {
      "needs_background": "light"
     },
     "output_type": "display_data"
    }
   ],
   "source": [
    "fig, ax = plt.subplots(figsize = (10,10))\n",
    "cm = confusion_matrix(y_test, pipe.predict(X_test))\n",
    "ConfusionMatrixDisplay(cm).plot(ax = ax);"
   ]
  },
  {
   "cell_type": "markdown",
   "metadata": {},
   "source": [
    "This FSM is pretty bad at predicting the recall score for the 1 class. This could be because we did not use any over sampling techniques."
   ]
  },
  {
   "cell_type": "markdown",
   "metadata": {},
   "source": [
    "## Creating a Logistic Regression model with a class balance"
   ]
  },
  {
   "cell_type": "code",
   "execution_count": 137,
   "metadata": {
    "scrolled": true
   },
   "outputs": [],
   "source": [
    "#Creating a new Logistic Regression with smote and random over sampler as our class balancers\n",
    "smote = SMOTE(random_state = 24)\n",
    "ros = RandomOverSampler(random_state = 24)\n",
    "nominal_pipeline = Pipeline([('one_hot', OneHotEncoder()), ('maxab_scaler', MaxAbsScaler())])\n",
    "numeric_pipeline = Pipeline([(('std_scaler'), StandardScaler())])\n",
    "num_cols = X_train.select_dtypes(['int', 'float']).columns\n",
    "ct = ColumnTransformer([('nominalpipe', nominal_pipeline, ['state', 'area code','international plan', 'voice mail plan']), \n",
    "                        ('numpipe', numeric_pipeline, num_cols)])\n",
    "ros_pipe = Pipeline([('preprocessing', ct), ('sampling', ros), ('model', LogisticRegression(random_state = 24, max_iter = 10*100))])\n"
   ]
  },
  {
   "cell_type": "markdown",
   "metadata": {},
   "source": [
    "Using random over sampler as our class imbalance technique."
   ]
  },
  {
   "cell_type": "code",
   "execution_count": null,
   "metadata": {},
   "outputs": [],
   "source": [
    "#Fitting the model on the train data\n",
    "ros_pipe.fit(X_train, y_train)"
   ]
  },
  {
   "cell_type": "code",
   "execution_count": 139,
   "metadata": {
    "scrolled": true
   },
   "outputs": [
    {
     "name": "stdout",
     "output_type": "stream",
     "text": [
      "              precision    recall  f1-score   support\n",
      "\n",
      "           0       0.93      0.74      0.83      2283\n",
      "           1       0.31      0.68      0.42       383\n",
      "\n",
      "    accuracy                           0.73      2666\n",
      "   macro avg       0.62      0.71      0.62      2666\n",
      "weighted avg       0.84      0.73      0.77      2666\n",
      "\n"
     ]
    }
   ],
   "source": [
    "#Looking at the classification metrics for the train data\n",
    "fsm_ros = ros_pipe.predict(X_train)\n",
    "print(classification_report(y_train, fsm_ros))"
   ]
  },
  {
   "cell_type": "code",
   "execution_count": 140,
   "metadata": {
    "scrolled": false
   },
   "outputs": [
    {
     "data": {
      "image/png": "[encoded data removed]",
      "text/plain": [
       "<Figure size 720x720 with 2 Axes>"
      ]
     },
     "metadata": {
      "needs_background": "light"
     },
     "output_type": "display_data"
    }
   ],
   "source": [
    "#Displaying our confusion matrix of our logistic regression model\n",
    "fig, ax = plt.subplots(figsize = (10,10))\n",
    "cm2 = confusion_matrix(y_test, ros_pipe.predict(X_test))\n",
    "ConfusionMatrixDisplay(cm2).plot(ax = ax);"
   ]
  },
  {
   "cell_type": "markdown",
   "metadata": {},
   "source": [
    "Logistic regression has a pretty decent recall score but it is not good enough. Lets try out a different classifier."
   ]
  },
  {
   "cell_type": "markdown",
   "metadata": {},
   "source": [
    "## 2. Random Forest Model  Baseline"
   ]
  },
  {
   "cell_type": "code",
   "execution_count": 23,
   "metadata": {},
   "outputs": [],
   "source": [
    "#Creating a new pipeline using the RandomForestClassifier\n",
    "second_nominalpipe = Pipeline([('one_hot', OneHotEncoder())])\n",
    "ctRF = ColumnTransformer([('secondnominalpipe', second_nominalpipe, ['state', 'area code', 'international plan', 'voice mail plan'])], remainder = 'passthrough')                         \n",
    "secondpipe = Pipeline([('preprocessing', ctRF), ('sampling', ros), ('model', RandomForestClassifier(random_state = 24))])"
   ]
  },
  {
   "cell_type": "code",
   "execution_count": null,
   "metadata": {},
   "outputs": [],
   "source": [
    "#Fitting the pipeline\n",
    "secondpipe.fit(X_train, y_train)"
   ]
  },
  {
   "cell_type": "code",
   "execution_count": 26,
   "metadata": {},
   "outputs": [
    {
     "name": "stdout",
     "output_type": "stream",
     "text": [
      "              precision    recall  f1-score   support\n",
      "\n",
      "           0       1.00      1.00      1.00      2283\n",
      "           1       1.00      1.00      1.00       383\n",
      "\n",
      "    accuracy                           1.00      2666\n",
      "   macro avg       1.00      1.00      1.00      2666\n",
      "weighted avg       1.00      1.00      1.00      2666\n",
      "\n"
     ]
    }
   ],
   "source": [
    "#Predicting on the train data\n",
    "RF_predict = secondpipe.predict(X_train)\n",
    "print(classification_report(y_train, RF_predict))"
   ]
  },
  {
   "cell_type": "markdown",
   "metadata": {},
   "source": [
    "## Overfitting\n",
    "- We got great scores for our train set! This is a red flag!!!\n",
    "- We didnt give the RandomForestClassifier a maximum depth so it ran till there were pure leafs\n",
    " - This results in overfitting"
   ]
  },
  {
   "cell_type": "markdown",
   "metadata": {},
   "source": [
    "## Random Forest Random Search Model"
   ]
  },
  {
   "cell_type": "code",
   "execution_count": 27,
   "metadata": {},
   "outputs": [],
   "source": [
    "#Creating grid parameters for a RandomizedSearchCV\n",
    "RFgrid = [{\"model__criterion\" : [\"gini\", \"entropy\"],\n",
    "           \"model__n_estimators\": [10, 30, 60, 80, 100],\n",
    "                \"model__max_depth\": [2,3,4,5,6,8,10, None],\n",
    "                \"model__min_samples_split\": [2,5, 6, 8, 10],\n",
    "                \"model__min_samples_leaf\": [1,2,3,4,5,6, 10, 15],\n",
    "         'sampling__sampling_strategy': [.7, .9, 1]}\n",
    "       ]"
   ]
  },
  {
   "cell_type": "code",
   "execution_count": 28,
   "metadata": {},
   "outputs": [],
   "source": [
    "#Instantiating the RandomizedSearchCV\n",
    "RFrandomsearch = RandomizedSearchCV(secondpipe, RFgrid, scoring = 'recall', n_iter = 20, cv = 4)"
   ]
  },
  {
   "cell_type": "code",
   "execution_count": null,
   "metadata": {
    "scrolled": false
   },
   "outputs": [],
   "source": [
    "#Fitting\n",
    "RFrandomsearch.fit(X_train, y_train)"
   ]
  },
  {
   "cell_type": "code",
   "execution_count": 30,
   "metadata": {},
   "outputs": [
    {
     "data": {
      "text/html": [
       "<div>\n",
       "<style scoped>\n",
       "    .dataframe tbody tr th:only-of-type {\n",
       "        vertical-align: middle;\n",
       "    }\n",
       "\n",
       "    .dataframe tbody tr th {\n",
       "        vertical-align: top;\n",
       "    }\n",
       "\n",
       "    .dataframe thead th {\n",
       "        text-align: right;\n",
       "    }\n",
       "</style>\n",
       "<table border=\"1\" class=\"dataframe\">\n",
       "  <thead>\n",
       "    <tr style=\"text-align: right;\">\n",
       "      <th></th>\n",
       "      <th>mean_fit_time</th>\n",
       "      <th>std_fit_time</th>\n",
       "      <th>mean_score_time</th>\n",
       "      <th>std_score_time</th>\n",
       "      <th>param_sampling__sampling_strategy</th>\n",
       "      <th>param_model__n_estimators</th>\n",
       "      <th>param_model__min_samples_split</th>\n",
       "      <th>param_model__min_samples_leaf</th>\n",
       "      <th>param_model__max_depth</th>\n",
       "      <th>param_model__criterion</th>\n",
       "      <th>params</th>\n",
       "      <th>split0_test_score</th>\n",
       "      <th>split1_test_score</th>\n",
       "      <th>split2_test_score</th>\n",
       "      <th>split3_test_score</th>\n",
       "      <th>mean_test_score</th>\n",
       "      <th>std_test_score</th>\n",
       "      <th>rank_test_score</th>\n",
       "    </tr>\n",
       "  </thead>\n",
       "  <tbody>\n",
       "    <tr>\n",
       "      <th>9</th>\n",
       "      <td>0.239317</td>\n",
       "      <td>0.003704</td>\n",
       "      <td>0.011724</td>\n",
       "      <td>0.006769</td>\n",
       "      <td>1</td>\n",
       "      <td>80</td>\n",
       "      <td>8</td>\n",
       "      <td>10</td>\n",
       "      <td>8</td>\n",
       "      <td>gini</td>\n",
       "      <td>{'sampling__sampling_strategy': 1, 'model__n_e...</td>\n",
       "      <td>0.822917</td>\n",
       "      <td>0.833333</td>\n",
       "      <td>0.915789</td>\n",
       "      <td>0.760417</td>\n",
       "      <td>0.833114</td>\n",
       "      <td>0.055281</td>\n",
       "      <td>1</td>\n",
       "    </tr>\n",
       "    <tr>\n",
       "      <th>8</th>\n",
       "      <td>0.309945</td>\n",
       "      <td>0.006604</td>\n",
       "      <td>0.013541</td>\n",
       "      <td>0.004070</td>\n",
       "      <td>1</td>\n",
       "      <td>100</td>\n",
       "      <td>8</td>\n",
       "      <td>10</td>\n",
       "      <td>8</td>\n",
       "      <td>entropy</td>\n",
       "      <td>{'sampling__sampling_strategy': 1, 'model__n_e...</td>\n",
       "      <td>0.812500</td>\n",
       "      <td>0.833333</td>\n",
       "      <td>0.905263</td>\n",
       "      <td>0.760417</td>\n",
       "      <td>0.827878</td>\n",
       "      <td>0.051975</td>\n",
       "      <td>2</td>\n",
       "    </tr>\n",
       "    <tr>\n",
       "      <th>3</th>\n",
       "      <td>0.223710</td>\n",
       "      <td>0.005424</td>\n",
       "      <td>0.010929</td>\n",
       "      <td>0.006443</td>\n",
       "      <td>1</td>\n",
       "      <td>60</td>\n",
       "      <td>10</td>\n",
       "      <td>15</td>\n",
       "      <td>None</td>\n",
       "      <td>gini</td>\n",
       "      <td>{'sampling__sampling_strategy': 1, 'model__n_e...</td>\n",
       "      <td>0.812500</td>\n",
       "      <td>0.843750</td>\n",
       "      <td>0.884211</td>\n",
       "      <td>0.760417</td>\n",
       "      <td>0.825219</td>\n",
       "      <td>0.045234</td>\n",
       "      <td>3</td>\n",
       "    </tr>\n",
       "    <tr>\n",
       "      <th>1</th>\n",
       "      <td>0.105048</td>\n",
       "      <td>0.006225</td>\n",
       "      <td>0.007606</td>\n",
       "      <td>0.007612</td>\n",
       "      <td>1</td>\n",
       "      <td>60</td>\n",
       "      <td>2</td>\n",
       "      <td>1</td>\n",
       "      <td>3</td>\n",
       "      <td>gini</td>\n",
       "      <td>{'sampling__sampling_strategy': 1, 'model__n_e...</td>\n",
       "      <td>0.843750</td>\n",
       "      <td>0.812500</td>\n",
       "      <td>0.884211</td>\n",
       "      <td>0.739583</td>\n",
       "      <td>0.820011</td>\n",
       "      <td>0.052939</td>\n",
       "      <td>4</td>\n",
       "    </tr>\n",
       "    <tr>\n",
       "      <th>6</th>\n",
       "      <td>0.346701</td>\n",
       "      <td>0.010069</td>\n",
       "      <td>0.014141</td>\n",
       "      <td>0.004591</td>\n",
       "      <td>1</td>\n",
       "      <td>80</td>\n",
       "      <td>8</td>\n",
       "      <td>10</td>\n",
       "      <td>None</td>\n",
       "      <td>gini</td>\n",
       "      <td>{'sampling__sampling_strategy': 1, 'model__n_e...</td>\n",
       "      <td>0.812500</td>\n",
       "      <td>0.833333</td>\n",
       "      <td>0.873684</td>\n",
       "      <td>0.760417</td>\n",
       "      <td>0.819984</td>\n",
       "      <td>0.040823</td>\n",
       "      <td>5</td>\n",
       "    </tr>\n",
       "  </tbody>\n",
       "</table>\n",
       "</div>"
      ],
      "text/plain": [
       "   mean_fit_time  std_fit_time  mean_score_time  std_score_time  \\\n",
       "9       0.239317      0.003704         0.011724        0.006769   \n",
       "8       0.309945      0.006604         0.013541        0.004070   \n",
       "3       0.223710      0.005424         0.010929        0.006443   \n",
       "1       0.105048      0.006225         0.007606        0.007612   \n",
       "6       0.346701      0.010069         0.014141        0.004591   \n",
       "\n",
       "  param_sampling__sampling_strategy param_model__n_estimators  \\\n",
       "9                                 1                        80   \n",
       "8                                 1                       100   \n",
       "3                                 1                        60   \n",
       "1                                 1                        60   \n",
       "6                                 1                        80   \n",
       "\n",
       "  param_model__min_samples_split param_model__min_samples_leaf  \\\n",
       "9                              8                            10   \n",
       "8                              8                            10   \n",
       "3                             10                            15   \n",
       "1                              2                             1   \n",
       "6                              8                            10   \n",
       "\n",
       "  param_model__max_depth param_model__criterion  \\\n",
       "9                      8                   gini   \n",
       "8                      8                entropy   \n",
       "3                   None                   gini   \n",
       "1                      3                   gini   \n",
       "6                   None                   gini   \n",
       "\n",
       "                                              params  split0_test_score  \\\n",
       "9  {'sampling__sampling_strategy': 1, 'model__n_e...           0.822917   \n",
       "8  {'sampling__sampling_strategy': 1, 'model__n_e...           0.812500   \n",
       "3  {'sampling__sampling_strategy': 1, 'model__n_e...           0.812500   \n",
       "1  {'sampling__sampling_strategy': 1, 'model__n_e...           0.843750   \n",
       "6  {'sampling__sampling_strategy': 1, 'model__n_e...           0.812500   \n",
       "\n",
       "   split1_test_score  split2_test_score  split3_test_score  mean_test_score  \\\n",
       "9           0.833333           0.915789           0.760417         0.833114   \n",
       "8           0.833333           0.905263           0.760417         0.827878   \n",
       "3           0.843750           0.884211           0.760417         0.825219   \n",
       "1           0.812500           0.884211           0.739583         0.820011   \n",
       "6           0.833333           0.873684           0.760417         0.819984   \n",
       "\n",
       "   std_test_score  rank_test_score  \n",
       "9        0.055281                1  \n",
       "8        0.051975                2  \n",
       "3        0.045234                3  \n",
       "1        0.052939                4  \n",
       "6        0.040823                5  "
      ]
     },
     "execution_count": 30,
     "metadata": {},
     "output_type": "execute_result"
    }
   ],
   "source": [
    "#Creating a dataframe that shows the top 5 best models from RandomSearchCV\n",
    "randomcv_results = pd.DataFrame(RFrandomsearch.cv_results_)\n",
    "randomcv_results.sort_values('rank_test_score').head()"
   ]
  },
  {
   "cell_type": "code",
   "execution_count": 31,
   "metadata": {},
   "outputs": [],
   "source": [
    "#creating a variable for the best estimator\n",
    "randomRF_best_model = RFrandomsearch.best_estimator_"
   ]
  },
  {
   "cell_type": "code",
   "execution_count": 32,
   "metadata": {
    "scrolled": false
   },
   "outputs": [
    {
     "data": {
      "text/plain": [
       "{'sampling__sampling_strategy': 1,\n",
       " 'model__n_estimators': 80,\n",
       " 'model__min_samples_split': 8,\n",
       " 'model__min_samples_leaf': 10,\n",
       " 'model__max_depth': 8,\n",
       " 'model__criterion': 'gini'}"
      ]
     },
     "execution_count": 32,
     "metadata": {},
     "output_type": "execute_result"
    }
   ],
   "source": [
    "#Looking at the best parameters for the model\n",
    "RFrandomsearch.best_params_"
   ]
  },
  {
   "cell_type": "code",
   "execution_count": 33,
   "metadata": {},
   "outputs": [],
   "source": [
    "#Predicting on the X Train\n",
    "y_pred_RF = randomRF_best_model.predict(X_train)"
   ]
  },
  {
   "cell_type": "code",
   "execution_count": 34,
   "metadata": {},
   "outputs": [
    {
     "name": "stdout",
     "output_type": "stream",
     "text": [
      "              precision    recall  f1-score   support\n",
      "\n",
      "           0       0.97      0.91      0.94      2283\n",
      "           1       0.62      0.86      0.72       383\n",
      "\n",
      "    accuracy                           0.90      2666\n",
      "   macro avg       0.80      0.88      0.83      2666\n",
      "weighted avg       0.92      0.90      0.91      2666\n",
      "\n"
     ]
    }
   ],
   "source": [
    "#Classification metrics on train set\n",
    "print(classification_report(y_train, y_pred_RF))"
   ]
  },
  {
   "cell_type": "code",
   "execution_count": 35,
   "metadata": {
    "scrolled": false
   },
   "outputs": [
    {
     "name": "stdout",
     "output_type": "stream",
     "text": [
      "              precision    recall  f1-score   support\n",
      "\n",
      "           0       0.97      0.88      0.93       567\n",
      "           1       0.56      0.87      0.69       100\n",
      "\n",
      "    accuracy                           0.88       667\n",
      "   macro avg       0.77      0.88      0.81       667\n",
      "weighted avg       0.91      0.88      0.89       667\n",
      "\n"
     ]
    }
   ],
   "source": [
    "#Classification metrics and evaluation on the test set\n",
    "print(classification_report(y_test, randomRF_best_model.predict(X_test)))"
   ]
  },
  {
   "cell_type": "code",
   "execution_count": 36,
   "metadata": {},
   "outputs": [
    {
     "data": {
      "text/plain": [
       "array(['x0_AK', 'x0_AL', 'x0_AR', 'x0_AZ', 'x0_CA', 'x0_CO', 'x0_CT',\n",
       "       'x0_DC', 'x0_DE', 'x0_FL', 'x0_GA', 'x0_HI', 'x0_IA', 'x0_ID',\n",
       "       'x0_IL', 'x0_IN', 'x0_KS', 'x0_KY', 'x0_LA', 'x0_MA', 'x0_MD',\n",
       "       'x0_ME', 'x0_MI', 'x0_MN', 'x0_MO', 'x0_MS', 'x0_MT', 'x0_NC',\n",
       "       'x0_ND', 'x0_NE', 'x0_NH', 'x0_NJ', 'x0_NM', 'x0_NV', 'x0_NY',\n",
       "       'x0_OH', 'x0_OK', 'x0_OR', 'x0_PA', 'x0_RI', 'x0_SC', 'x0_SD',\n",
       "       'x0_TN', 'x0_TX', 'x0_UT', 'x0_VA', 'x0_VT', 'x0_WA', 'x0_WI',\n",
       "       'x0_WV', 'x0_WY', 'x1_408', 'x1_415', 'x1_510', 'x2_no', 'x2_yes',\n",
       "       'x3_no', 'x3_yes'], dtype=object)"
      ]
     },
     "execution_count": 36,
     "metadata": {},
     "output_type": "execute_result"
    }
   ],
   "source": [
    "#Getting the column names for the OneHotEncoded columns\n",
    "secondpipe.named_steps['preprocessing'].transformers_[0][1].named_steps['one_hot'].get_feature_names()"
   ]
  },
  {
   "cell_type": "code",
   "execution_count": 37,
   "metadata": {},
   "outputs": [],
   "source": [
    "#Creating the variable columns names so that we can use it to see the feature importances\n",
    "columns_names = ['x0_AK', 'x0_AL', 'x0_AR', 'x0_AZ', 'x0_CA', 'x0_CO', 'x0_CT',\n",
    "'x0_DC', 'x0_DE', 'x0_FL', 'x0_GA', 'x0_HI', 'x0_IA', 'x0_ID',\n",
    "'x0_IL', 'x0_IN', 'x0_KS', 'x0_KY', 'x0_LA', 'x0_MA', 'x0_MD',\n",
    "'x0_ME', 'x0_MI', 'x0_MN', 'x0_MO', 'x0_MS', 'x0_MT', 'x0_NC',\n",
    "'x0_ND', 'x0_NE', 'x0_NH', 'x0_NJ', 'x0_NM', 'x0_NV', 'x0_NY',\n",
    "'x0_OH', 'x0_OK', 'x0_OR', 'x0_PA', 'x0_RI', 'x0_SC', 'x0_SD',\n",
    "'x0_TN', 'x0_TX', 'x0_UT', 'x0_VA', 'x0_VT', 'x0_WA', 'x0_WI',\n",
    "'x0_WV', 'x0_WY', 'account length', 'x1_408', 'x1_415', 'x1_510', 'x2_no', 'x2_yes',\n",
    "'x3_no', 'x3_yes', 'number vmail messages', 'total day minutes', 'total day calls',\n",
    "'total eve minutes', 'total eve calls', 'total night minutes', 'total night calls',\n",
    "'total intl minutes', 'total intl calls', 'customer service calls']"
   ]
  },
  {
   "cell_type": "code",
   "execution_count": 145,
   "metadata": {
    "scrolled": false
   },
   "outputs": [
    {
     "data": {
      "image/png": "[encoded data removed]",
      "text/plain": [
       "<Figure size 432x288 with 1 Axes>"
      ]
     },
     "metadata": {
      "needs_background": "light"
     },
     "output_type": "display_data"
    }
   ],
   "source": [
    "#Creating a plot for the top 15 feature importances of the model which highly influence the target to churn\n",
    "feature_imp = randomRF_best_model['model'].feature_importances_\n",
    "feat_imp_series = pd.Series(feature_imp, index = columns_names).sort_values(ascending = False)\n",
    "feat_imp_series.nlargest(15).plot(kind = 'barh');"
   ]
  },
  {
   "cell_type": "code",
   "execution_count": 151,
   "metadata": {},
   "outputs": [
    {
     "data": {
      "image/png": "[encoded data removed]",
      "text/plain": [
       "<Figure size 720x720 with 2 Axes>"
      ]
     },
     "metadata": {
      "needs_background": "light"
     },
     "output_type": "display_data"
    }
   ],
   "source": [
    "fig, ax = plt.subplots(figsize = (10,10))\n",
    "cm3 = confusion_matrix(y_test, randomRF_best_model.predict(X_test))\n",
    "ConfusionMatrixDisplay(cm3).plot(ax = ax);"
   ]
  },
  {
   "cell_type": "markdown",
   "metadata": {},
   "source": [
    "The random forest randomized search model shows some pretty good scores for recall on the 1 class but I think we should use a grid search model to see if we can get a better recall score."
   ]
  },
  {
   "cell_type": "markdown",
   "metadata": {},
   "source": [
    "## Random Forest Grid Searched Model"
   ]
  },
  {
   "cell_type": "code",
   "execution_count": 42,
   "metadata": {},
   "outputs": [],
   "source": [
    "#Creating grid paramaters for a GridSearchCV and instantiating GridSearchCV\n",
    "RFgrid_GS = {'sampling__sampling_strategy': [1],\n",
    " 'model__n_estimators': [70, 75, 80, 85, 100],\n",
    " 'model__min_samples_split': [5,7, 8, 9, 10],\n",
    " 'model__min_samples_leaf': [4, 6, 10, 12],\n",
    " 'model__max_depth': [None, 5, 6, 8, 10],\n",
    " 'model__criterion': ['gini', 'entropy']}\n",
    "RFgridsearch = GridSearchCV(secondpipe, RFgrid_GS, scoring = 'recall', cv = 4)\n"
   ]
  },
  {
   "cell_type": "code",
   "execution_count": null,
   "metadata": {
    "scrolled": true
   },
   "outputs": [],
   "source": [
    "#Fitting\n",
    "RFgridsearch.fit(X_train, y_train)"
   ]
  },
  {
   "cell_type": "code",
   "execution_count": 44,
   "metadata": {
    "scrolled": true
   },
   "outputs": [
    {
     "data": {
      "text/plain": [
       "{'model__criterion': 'gini',\n",
       " 'model__max_depth': 10,\n",
       " 'model__min_samples_leaf': 12,\n",
       " 'model__min_samples_split': 5,\n",
       " 'model__n_estimators': 75,\n",
       " 'sampling__sampling_strategy': 1}"
      ]
     },
     "execution_count": 44,
     "metadata": {},
     "output_type": "execute_result"
    }
   ],
   "source": [
    "#Best parameters\n",
    "RFgridsearch.best_params_"
   ]
  },
  {
   "cell_type": "code",
   "execution_count": null,
   "metadata": {
    "scrolled": true
   },
   "outputs": [],
   "source": [
    "#Looking at the pipeline for best estimator\n",
    "RFgridsearch.best_estimator_"
   ]
  },
  {
   "cell_type": "code",
   "execution_count": 194,
   "metadata": {},
   "outputs": [],
   "source": [
    "#Creating a variable for the best estimator\n",
    "best_model_rf = RFgridsearch.best_estimator_"
   ]
  },
  {
   "cell_type": "code",
   "execution_count": 195,
   "metadata": {},
   "outputs": [],
   "source": [
    "#Predicting on X_train\n",
    "best_model_pred = best_model_rf.predict(X_train)"
   ]
  },
  {
   "cell_type": "code",
   "execution_count": 196,
   "metadata": {},
   "outputs": [
    {
     "name": "stdout",
     "output_type": "stream",
     "text": [
      "              precision    recall  f1-score   support\n",
      "\n",
      "           0       0.98      0.92      0.95      2283\n",
      "           1       0.65      0.88      0.74       383\n",
      "\n",
      "    accuracy                           0.91      2666\n",
      "   macro avg       0.81      0.90      0.85      2666\n",
      "weighted avg       0.93      0.91      0.92      2666\n",
      "\n"
     ]
    }
   ],
   "source": [
    "#Classification Metrics for train set\n",
    "print(classification_report(y_train, best_model_pred))"
   ]
  },
  {
   "cell_type": "code",
   "execution_count": 197,
   "metadata": {
    "scrolled": true
   },
   "outputs": [
    {
     "name": "stdout",
     "output_type": "stream",
     "text": [
      "              precision    recall  f1-score   support\n",
      "\n",
      "           0       0.97      0.88      0.92       567\n",
      "           1       0.56      0.87      0.68       100\n",
      "\n",
      "    accuracy                           0.88       667\n",
      "   macro avg       0.77      0.88      0.80       667\n",
      "weighted avg       0.91      0.88      0.89       667\n",
      "\n"
     ]
    }
   ],
   "source": [
    "#Classification Metrics and evaluation on the test set\n",
    "print(classification_report(y_test, best_model_rf.predict(X_test)))"
   ]
  },
  {
   "cell_type": "markdown",
   "metadata": {},
   "source": [
    "Our recall score for the grid search model was not any better than our randomized search model. Lets see if the a different classifier can give us better results."
   ]
  },
  {
   "cell_type": "markdown",
   "metadata": {},
   "source": [
    "# 3. XGBClassifier Base Model"
   ]
  },
  {
   "cell_type": "code",
   "execution_count": 92,
   "metadata": {},
   "outputs": [],
   "source": [
    "#Creating a new pipeline using the XGBClassifier\n",
    "third_nominalpipe = Pipeline([('one_hot', OneHotEncoder())])\n",
    "ctxgb = ColumnTransformer([('secondnominalpipe', third_nominalpipe, ['state', 'area code', 'international plan', 'voice mail plan'])], remainder = 'passthrough')                       \n",
    "thirdpipe = Pipeline([('preprocessing', ctxgb), ('sampling', ros), ('model', XGBClassifier(max_depth = 2, random_state = 24))])"
   ]
  },
  {
   "cell_type": "code",
   "execution_count": null,
   "metadata": {},
   "outputs": [],
   "source": [
    "#Fitting\n",
    "thirdpipe.fit(X_train, y_train)"
   ]
  },
  {
   "cell_type": "code",
   "execution_count": 94,
   "metadata": {},
   "outputs": [],
   "source": [
    "#Predicting on X_train\n",
    "xgb_y_pred_train = thirdpipe.predict(X_train)"
   ]
  },
  {
   "cell_type": "code",
   "execution_count": 95,
   "metadata": {
    "scrolled": true
   },
   "outputs": [
    {
     "name": "stdout",
     "output_type": "stream",
     "text": [
      "              precision    recall  f1-score   support\n",
      "\n",
      "           0       0.98      0.95      0.97      2283\n",
      "           1       0.76      0.89      0.82       383\n",
      "\n",
      "    accuracy                           0.94      2666\n",
      "   macro avg       0.87      0.92      0.89      2666\n",
      "weighted avg       0.95      0.94      0.94      2666\n",
      "\n"
     ]
    }
   ],
   "source": [
    "#Metrics on the train set\n",
    "print(classification_report(y_train, xgb_y_pred_train))"
   ]
  },
  {
   "cell_type": "code",
   "execution_count": 96,
   "metadata": {},
   "outputs": [
    {
     "name": "stdout",
     "output_type": "stream",
     "text": [
      "              precision    recall  f1-score   support\n",
      "\n",
      "           0       0.97      0.93      0.95       567\n",
      "           1       0.70      0.86      0.77       100\n",
      "\n",
      "    accuracy                           0.92       667\n",
      "   macro avg       0.84      0.90      0.86       667\n",
      "weighted avg       0.93      0.92      0.93       667\n",
      "\n"
     ]
    }
   ],
   "source": [
    "#Metrics and evaluation on the test set\n",
    "print(classification_report(y_test, thirdpipe.predict(X_test)))"
   ]
  },
  {
   "cell_type": "code",
   "execution_count": 283,
   "metadata": {},
   "outputs": [],
   "source": [
    "#Creating a list of feature names to use in feature importance visual\n",
    "yl = ['Customer Service Calls',\n",
    " 'Area_code_510',\n",
    " 'Total Day Minutes',\n",
    " 'International_plan_yes',\n",
    " 'Total Intl Calls',\n",
    " 'Area_code_408',\n",
    " 'Total Intl Minutes',\n",
    " 'Total Eve Minutes',\n",
    " 'Number Vmail Messages',\n",
    " 'Total Night Minutes']\n"
   ]
  },
  {
   "cell_type": "code",
   "execution_count": 296,
   "metadata": {
    "scrolled": true
   },
   "outputs": [
    {
     "data": {
      "image/png": "[encoded data removed]",
      "text/plain": [
       "<Figure size 432x288 with 1 Axes>"
      ]
     },
     "metadata": {
      "needs_background": "light"
     },
     "output_type": "display_data"
    }
   ],
   "source": [
    "#Creating a plot for the top 15 feature importances of the model which highly influence the target to churn\n",
    "fig, ax = plt.subplots()\n",
    "feature_imp_xgb = thirdpipe['model'].feature_importances_\n",
    "feat_imp_series_xgb = pd.Series(feature_imp_xgb, index = [columns_names]).sort_values(ascending = False)\n",
    "feat_imp_series_xgb.nlargest(10).plot(kind = 'barh')\n",
    "ax.set_yticklabels(yl)\n",
    "ax.set_title('Feature Importance', fontsize = 20)\n",
    "ax.set_ylabel('Feature Name', fontsize = 15)\n",
    "ax.set_xlabel('Feature Impact Percentage', fontsize = 15);"
   ]
  },
  {
   "cell_type": "code",
   "execution_count": 163,
   "metadata": {
    "scrolled": true
   },
   "outputs": [
    {
     "data": {
      "image/png": "[encoded data removed]",
      "text/plain": [
       "<Figure size 720x720 with 2 Axes>"
      ]
     },
     "metadata": {
      "needs_background": "light"
     },
     "output_type": "display_data"
    }
   ],
   "source": [
    "#Confusion matrix of the model\n",
    "fig, ax = plt.subplots(figsize = (10,10))\n",
    "cm3 = confusion_matrix(y_test, thirdpipe.predict(X_test))\n",
    "ConfusionMatrixDisplay(cm3).plot(ax = ax);"
   ]
  },
  {
   "cell_type": "code",
   "execution_count": null,
   "metadata": {},
   "outputs": [],
   "source": [
    "#This XGB Boost Model has given us our best recall score yet. Lets tune some hyper parameters to see if it can give us better scores."
   ]
  },
  {
   "cell_type": "markdown",
   "metadata": {},
   "source": [
    "# XGBClassifer Model Tuned"
   ]
  },
  {
   "cell_type": "code",
   "execution_count": 56,
   "metadata": {},
   "outputs": [],
   "source": [
    "#Creating parameter grid for RandomizedSearchCV\n",
    "params = {\"model__max_depth\": [1, 2, 3, 4, 5, 6],\n",
    "         \"model__n_estimators\": [50, 100, 150, 200, 300, 400],\n",
    "         \"model__learning_rate\": [.001, .01, .05, .1, .5, 1],\n",
    "         \"model__gamma\": [0, 10, 20, 40, 60, 80, 100],\n",
    "         \"model__colsample_bytree\": [.5, .6, .8, .9, 1]}\n",
    "\n",
    "xgbrandomgridsearch = RandomizedSearchCV(thirdpipe, params, scoring = \"recall\", n_iter = 20,  cv = 4)"
   ]
  },
  {
   "cell_type": "code",
   "execution_count": null,
   "metadata": {},
   "outputs": [],
   "source": [
    "#Fitting\n",
    "xgbrandomgridsearch.fit(X_train, y_train)"
   ]
  },
  {
   "cell_type": "code",
   "execution_count": 58,
   "metadata": {},
   "outputs": [
    {
     "data": {
      "text/html": [
       "<div>\n",
       "<style scoped>\n",
       "    .dataframe tbody tr th:only-of-type {\n",
       "        vertical-align: middle;\n",
       "    }\n",
       "\n",
       "    .dataframe tbody tr th {\n",
       "        vertical-align: top;\n",
       "    }\n",
       "\n",
       "    .dataframe thead th {\n",
       "        text-align: right;\n",
       "    }\n",
       "</style>\n",
       "<table border=\"1\" class=\"dataframe\">\n",
       "  <thead>\n",
       "    <tr style=\"text-align: right;\">\n",
       "      <th></th>\n",
       "      <th>mean_fit_time</th>\n",
       "      <th>std_fit_time</th>\n",
       "      <th>mean_score_time</th>\n",
       "      <th>std_score_time</th>\n",
       "      <th>param_model__n_estimators</th>\n",
       "      <th>param_model__max_depth</th>\n",
       "      <th>param_model__learning_rate</th>\n",
       "      <th>param_model__gamma</th>\n",
       "      <th>param_model__colsample_bytree</th>\n",
       "      <th>params</th>\n",
       "      <th>split0_test_score</th>\n",
       "      <th>split1_test_score</th>\n",
       "      <th>split2_test_score</th>\n",
       "      <th>split3_test_score</th>\n",
       "      <th>mean_test_score</th>\n",
       "      <th>std_test_score</th>\n",
       "      <th>rank_test_score</th>\n",
       "    </tr>\n",
       "  </thead>\n",
       "  <tbody>\n",
       "    <tr>\n",
       "      <th>0</th>\n",
       "      <td>0.101576</td>\n",
       "      <td>0.004580</td>\n",
       "      <td>0.016846</td>\n",
       "      <td>0.005098</td>\n",
       "      <td>100</td>\n",
       "      <td>4</td>\n",
       "      <td>0.1</td>\n",
       "      <td>60</td>\n",
       "      <td>0.8</td>\n",
       "      <td>{'model__n_estimators': 100, 'model__max_depth...</td>\n",
       "      <td>0.833333</td>\n",
       "      <td>0.822917</td>\n",
       "      <td>0.915789</td>\n",
       "      <td>0.791667</td>\n",
       "      <td>0.840927</td>\n",
       "      <td>0.045861</td>\n",
       "      <td>1</td>\n",
       "    </tr>\n",
       "    <tr>\n",
       "      <th>13</th>\n",
       "      <td>0.093585</td>\n",
       "      <td>0.006234</td>\n",
       "      <td>0.024213</td>\n",
       "      <td>0.003489</td>\n",
       "      <td>50</td>\n",
       "      <td>6</td>\n",
       "      <td>1</td>\n",
       "      <td>100</td>\n",
       "      <td>1</td>\n",
       "      <td>{'model__n_estimators': 50, 'model__max_depth'...</td>\n",
       "      <td>0.822917</td>\n",
       "      <td>0.843750</td>\n",
       "      <td>0.884211</td>\n",
       "      <td>0.802083</td>\n",
       "      <td>0.838240</td>\n",
       "      <td>0.030355</td>\n",
       "      <td>2</td>\n",
       "    </tr>\n",
       "    <tr>\n",
       "      <th>10</th>\n",
       "      <td>0.183553</td>\n",
       "      <td>0.006599</td>\n",
       "      <td>0.018985</td>\n",
       "      <td>0.005151</td>\n",
       "      <td>150</td>\n",
       "      <td>5</td>\n",
       "      <td>0.05</td>\n",
       "      <td>80</td>\n",
       "      <td>1</td>\n",
       "      <td>{'model__n_estimators': 150, 'model__max_depth...</td>\n",
       "      <td>0.833333</td>\n",
       "      <td>0.822917</td>\n",
       "      <td>0.884211</td>\n",
       "      <td>0.791667</td>\n",
       "      <td>0.833032</td>\n",
       "      <td>0.033289</td>\n",
       "      <td>3</td>\n",
       "    </tr>\n",
       "    <tr>\n",
       "      <th>17</th>\n",
       "      <td>0.504851</td>\n",
       "      <td>0.003219</td>\n",
       "      <td>0.024860</td>\n",
       "      <td>0.002006</td>\n",
       "      <td>400</td>\n",
       "      <td>6</td>\n",
       "      <td>0.05</td>\n",
       "      <td>20</td>\n",
       "      <td>0.9</td>\n",
       "      <td>{'model__n_estimators': 400, 'model__max_depth...</td>\n",
       "      <td>0.822917</td>\n",
       "      <td>0.833333</td>\n",
       "      <td>0.863158</td>\n",
       "      <td>0.812500</td>\n",
       "      <td>0.832977</td>\n",
       "      <td>0.018918</td>\n",
       "      <td>4</td>\n",
       "    </tr>\n",
       "    <tr>\n",
       "      <th>14</th>\n",
       "      <td>0.054292</td>\n",
       "      <td>0.005145</td>\n",
       "      <td>0.021758</td>\n",
       "      <td>0.005037</td>\n",
       "      <td>50</td>\n",
       "      <td>2</td>\n",
       "      <td>0.05</td>\n",
       "      <td>20</td>\n",
       "      <td>1</td>\n",
       "      <td>{'model__n_estimators': 50, 'model__max_depth'...</td>\n",
       "      <td>0.833333</td>\n",
       "      <td>0.843750</td>\n",
       "      <td>0.894737</td>\n",
       "      <td>0.750000</td>\n",
       "      <td>0.830455</td>\n",
       "      <td>0.051938</td>\n",
       "      <td>5</td>\n",
       "    </tr>\n",
       "  </tbody>\n",
       "</table>\n",
       "</div>"
      ],
      "text/plain": [
       "    mean_fit_time  std_fit_time  mean_score_time  std_score_time  \\\n",
       "0        0.101576      0.004580         0.016846        0.005098   \n",
       "13       0.093585      0.006234         0.024213        0.003489   \n",
       "10       0.183553      0.006599         0.018985        0.005151   \n",
       "17       0.504851      0.003219         0.024860        0.002006   \n",
       "14       0.054292      0.005145         0.021758        0.005037   \n",
       "\n",
       "   param_model__n_estimators param_model__max_depth  \\\n",
       "0                        100                      4   \n",
       "13                        50                      6   \n",
       "10                       150                      5   \n",
       "17                       400                      6   \n",
       "14                        50                      2   \n",
       "\n",
       "   param_model__learning_rate param_model__gamma  \\\n",
       "0                         0.1                 60   \n",
       "13                          1                100   \n",
       "10                       0.05                 80   \n",
       "17                       0.05                 20   \n",
       "14                       0.05                 20   \n",
       "\n",
       "   param_model__colsample_bytree  \\\n",
       "0                            0.8   \n",
       "13                             1   \n",
       "10                             1   \n",
       "17                           0.9   \n",
       "14                             1   \n",
       "\n",
       "                                               params  split0_test_score  \\\n",
       "0   {'model__n_estimators': 100, 'model__max_depth...           0.833333   \n",
       "13  {'model__n_estimators': 50, 'model__max_depth'...           0.822917   \n",
       "10  {'model__n_estimators': 150, 'model__max_depth...           0.833333   \n",
       "17  {'model__n_estimators': 400, 'model__max_depth...           0.822917   \n",
       "14  {'model__n_estimators': 50, 'model__max_depth'...           0.833333   \n",
       "\n",
       "    split1_test_score  split2_test_score  split3_test_score  mean_test_score  \\\n",
       "0            0.822917           0.915789           0.791667         0.840927   \n",
       "13           0.843750           0.884211           0.802083         0.838240   \n",
       "10           0.822917           0.884211           0.791667         0.833032   \n",
       "17           0.833333           0.863158           0.812500         0.832977   \n",
       "14           0.843750           0.894737           0.750000         0.830455   \n",
       "\n",
       "    std_test_score  rank_test_score  \n",
       "0         0.045861                1  \n",
       "13        0.030355                2  \n",
       "10        0.033289                3  \n",
       "17        0.018918                4  \n",
       "14        0.051938                5  "
      ]
     },
     "execution_count": 58,
     "metadata": {},
     "output_type": "execute_result"
    }
   ],
   "source": [
    "#Creating a dataframe and looking at the top 5 results for our randomized search\n",
    "randomxgbcv_results = pd.DataFrame(xgbrandomgridsearch.cv_results_)\n",
    "randomxgbcv_results.sort_values('rank_test_score').head()"
   ]
  },
  {
   "cell_type": "code",
   "execution_count": 70,
   "metadata": {},
   "outputs": [],
   "source": [
    "#Taking the RandomizedSearchCV parameter results and creating a grid for GridSearchCV\n",
    "grid_search_params = {\"model__max_depth\": [2, 3, 4, 5, 6],\n",
    "         \"model__n_estimators\": [50, 100, 150, 200],\n",
    "         \"model__learning_rate\": [.05, .07, .1, .25, .5, 1],\n",
    "         \"model__gamma\": [20, 40, 60, 70, 80, 100],\n",
    "         \"model__colsample_bytree\": [.8, .9, 1]}\n",
    "xgbgridsearch = GridSearchCV(thirdpipe, grid_search_params, scoring = 'recall', cv = 3)"
   ]
  },
  {
   "cell_type": "code",
   "execution_count": null,
   "metadata": {
    "scrolled": false
   },
   "outputs": [],
   "source": [
    "#Fitting\n",
    "xgbgridsearch.fit(X_train, y_train)"
   ]
  },
  {
   "cell_type": "code",
   "execution_count": 72,
   "metadata": {
    "scrolled": true
   },
   "outputs": [
    {
     "data": {
      "text/plain": [
       "{'model__colsample_bytree': 0.8,\n",
       " 'model__gamma': 70,\n",
       " 'model__learning_rate': 0.25,\n",
       " 'model__max_depth': 5,\n",
       " 'model__n_estimators': 50}"
      ]
     },
     "execution_count": 72,
     "metadata": {},
     "output_type": "execute_result"
    }
   ],
   "source": [
    "#Best Parameters\n",
    "xgbgridsearch.best_params_"
   ]
  },
  {
   "cell_type": "code",
   "execution_count": null,
   "metadata": {},
   "outputs": [],
   "source": [
    "#Best estimator\n",
    "xgbgridsearch.best_estimator_"
   ]
  },
  {
   "cell_type": "code",
   "execution_count": 299,
   "metadata": {},
   "outputs": [],
   "source": [
    "#Creating a variable for the best estimator\n",
    "xgbgridbest = xgbgridsearch.best_estimator_"
   ]
  },
  {
   "cell_type": "code",
   "execution_count": 76,
   "metadata": {},
   "outputs": [],
   "source": [
    "#Predicting on X_train\n",
    "y_pred_xgb_tune = xgbgridbest.predict(X_train)"
   ]
  },
  {
   "cell_type": "code",
   "execution_count": 77,
   "metadata": {
    "scrolled": true
   },
   "outputs": [
    {
     "name": "stdout",
     "output_type": "stream",
     "text": [
      "              precision    recall  f1-score   support\n",
      "\n",
      "           0       0.97      0.90      0.93      2283\n",
      "           1       0.58      0.85      0.69       383\n",
      "\n",
      "    accuracy                           0.89      2666\n",
      "   macro avg       0.78      0.87      0.81      2666\n",
      "weighted avg       0.92      0.89      0.90      2666\n",
      "\n"
     ]
    }
   ],
   "source": [
    "#Classification report metrics for train set\n",
    "print(classification_report(y_train, y_pred_xgb_tune))"
   ]
  },
  {
   "cell_type": "code",
   "execution_count": 291,
   "metadata": {
    "scrolled": false
   },
   "outputs": [
    {
     "name": "stdout",
     "output_type": "stream",
     "text": [
      "              precision    recall  f1-score   support\n",
      "\n",
      "           0       0.97      0.88      0.92       567\n",
      "           1       0.56      0.87      0.68       100\n",
      "\n",
      "    accuracy                           0.88       667\n",
      "   macro avg       0.77      0.87      0.80       667\n",
      "weighted avg       0.91      0.88      0.89       667\n",
      "\n"
     ]
    }
   ],
   "source": [
    "#Classification report metrics on the test set\n",
    "print(classification_report(y_test, xgbgridbest.predict(X_test)))"
   ]
  },
  {
   "cell_type": "markdown",
   "metadata": {},
   "source": [
    "This tuned model doesnt give us a better recall score than the base model which I found very interesting."
   ]
  },
  {
   "cell_type": "markdown",
   "metadata": {},
   "source": [
    "# Best Model - XGBoost Base Model"
   ]
  },
  {
   "cell_type": "markdown",
   "metadata": {},
   "source": [
    "## Comparing our models and their fit"
   ]
  },
  {
   "cell_type": "code",
   "execution_count": 208,
   "metadata": {
    "scrolled": true
   },
   "outputs": [
    {
     "data": {
      "image/png": "[encoded data removed]",
      "text/plain": [
       "<Figure size 432x288 with 1 Axes>"
      ]
     },
     "metadata": {
      "needs_background": "light"
     },
     "output_type": "display_data"
    }
   ],
   "source": [
    "fig, ax = plt.subplots()\n",
    "plot_roc_curve(ros_pipe, X_test, y_test, ax = ax, label = 'FSM Logistic Regression Model (AUC = .77)')\n",
    "plot_roc_curve(best_model_rf, X_test, y_test, ax =ax, label = 'Random Forest Model               (AUC = .91)')\n",
    "plot_roc_curve(thirdpipe, X_test, y_test, ax =ax, label = 'XGBoost Model                         (AUC = .92)');"
   ]
  },
  {
   "cell_type": "markdown",
   "metadata": {},
   "source": [
    "You can see from the curve that XGBoost model has the most area under the curve"
   ]
  },
  {
   "cell_type": "markdown",
   "metadata": {},
   "source": [
    "## Evaluating the XGBoost base model"
   ]
  },
  {
   "cell_type": "markdown",
   "metadata": {},
   "source": [
    "- We chose the XGBoost base model because it gave us the best recall score for both the 0 and 1 classes.\n",
    "- We chose recall as the overall metric performance because we want to predict the true amount of people churning.\n",
    "    - It is okay to have more false positives (lower precision score) because we are predicting customers that are going to churn when they actually arent churning.\n",
    "        - This may be a slight inconveniece to our customers who are staying, but its better to overestimate to try and retain our customer basis.\n",
    "    - Would rather have a lower false negative rate (higher recall score) which predicts that people arent going to churn when they are churning. If we have a lower rate here than we are able to predict the true churners accurately. \n",
    "- While XGBoost may take longer to run than some other models, it is worth it monetarilly for Syriatel and the retention of their clients"
   ]
  }
 ],
 "metadata": {
  "kernelspec": {
   "display_name": "Python (learn-env)",
   "language": "python",
   "name": "learn-env"
  },
  "language_info": {
   "codemirror_mode": {
    "name": "ipython",
    "version": 3
   },
   "file_extension": ".py",
   "mimetype": "text/x-python",
   "name": "python",
   "nbconvert_exporter": "python",
   "pygments_lexer": "ipython3",
   "version": "3.9.16"
  }
 },
 "nbformat": 4,
 "nbformat_minor": 4
}
