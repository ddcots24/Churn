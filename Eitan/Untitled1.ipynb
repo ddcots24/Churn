{
 "cells": [
  {
   "cell_type": "code",
   "execution_count": 1,
   "id": "115932c7",
   "metadata": {},
   "outputs": [],
   "source": [
    "import inspect\n"
   ]
  },
  {
   "cell_type": "code",
   "execution_count": 4,
   "id": "a4488067",
   "metadata": {},
   "outputs": [
    {
     "ename": "NameError",
     "evalue": "name 'code' is not defined",
     "output_type": "error",
     "traceback": [
      "\u001b[0;31m---------------------------------------------------------------------------\u001b[0m",
      "\u001b[0;31mNameError\u001b[0m                                 Traceback (most recent call last)",
      "Cell \u001b[0;32mIn[4], line 1\u001b[0m\n\u001b[0;32m----> 1\u001b[0m \u001b[38;5;28mprint\u001b[39m(\u001b[38;5;124m'\u001b[39m\u001b[38;5;124mFile for code        :\u001b[39m\u001b[38;5;124m'\u001b[39m,inspect\u001b[38;5;241m.\u001b[39mgetabsfile(code))\n\u001b[1;32m      2\u001b[0m \u001b[38;5;28mprint\u001b[39m(\u001b[38;5;124m'\u001b[39m\u001b[38;5;124mFile for code.interact:\u001b[39m\u001b[38;5;124m'\u001b[39m,inspect\u001b[38;5;241m.\u001b[39mgetabsfile(code\u001b[38;5;241m.\u001b[39minteract))\n",
      "\u001b[0;31mNameError\u001b[0m: name 'code' is not defined"
     ]
    }
   ],
   "source": [
    "print('File for code        :',inspect.getabsfile(code))\n",
    "print('File for code.interact:',inspect.getabsfile(code.interact))"
   ]
  },
  {
   "cell_type": "code",
   "execution_count": 7,
   "id": "7833b274",
   "metadata": {},
   "outputs": [
    {
     "name": "stdout",
     "output_type": "stream",
     "text": [
      "Version info: sys.version_info(major=3, minor=11, micro=3, releaselevel='final', serial=0)\n",
      "\n",
      "File for `inspect`       : /Users/eitan/anaconda3/envs/Number41/lib/python3.11/inspect.py\n",
      "File for `inspect.iscode`: /Users/eitan/anaconda3/envs/Number41/lib/python3.11/inspect.py\n",
      "Do these match? True\n",
      "OK\n"
     ]
    }
   ],
   "source": [
    "import inspect,sys\n",
    "\n",
    "print('Version info:',sys.version_info)\n",
    "print()\n",
    "f1 = inspect.getabsfile(inspect)\n",
    "f2 = inspect.getabsfile(inspect.iscode)\n",
    "print('File for `inspect`       :',f1)\n",
    "print('File for `inspect.iscode`:',f2)\n",
    "print('Do these match?',f1==f2)\n",
    "if f1==f2:\n",
    "    print('OK')\n",
    "else:\n",
    "    print('BUG - this is a bug in this version of Python')\n",
    "\n"
   ]
  },
  {
   "cell_type": "code",
   "execution_count": 8,
   "id": "262568c6",
   "metadata": {},
   "outputs": [],
   "source": [
    "import inspect,sys\n"
   ]
  }
 ],
 "metadata": {
  "kernelspec": {
   "display_name": "Python Number41",
   "language": "python",
   "name": "number41"
  },
  "language_info": {
   "codemirror_mode": {
    "name": "ipython",
    "version": 3
   },
   "file_extension": ".py",
   "mimetype": "text/x-python",
   "name": "python",
   "nbconvert_exporter": "python",
   "pygments_lexer": "ipython3",
   "version": "3.11.3"
  }
 },
 "nbformat": 4,
 "nbformat_minor": 5
}
